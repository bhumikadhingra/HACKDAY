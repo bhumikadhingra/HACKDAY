{
 "cells": [
  {
   "cell_type": "code",
   "execution_count": 21,
   "metadata": {},
   "outputs": [],
   "source": [
    "import numpy as np\n",
    "import cv2\n",
    "import imutils\n",
    "import matplotlib.pyplot as plt\n",
    "from pyimagesearch.transform import four_point_transform\n",
    "from skimage.filters import threshold_local\n",
    "import pytesseract\n",
    "import kraken\n",
    "import os"
   ]
  },
  {
   "cell_type": "code",
   "execution_count": 55,
   "metadata": {},
   "outputs": [],
   "source": [
    "image=cv2.imread('page.jpg')\n",
    "orig=image.copy()\n",
    "resized_image=imutils.resize(image,width=400)\n",
    "gray=cv2.cvtColor(resized_image,cv2.COLOR_BGR2GRAY)\n",
    "blur=cv2.GaussianBlur(gray.copy(),(5,5),0)\n",
    "edged=cv2.Canny(blur.copy(),30,100)\n",
    "ratio=image.shape[0]/500\n",
    "cnts = cv2.findContours(edged.copy(), cv2.RETR_LIST, cv2.CHAIN_APPROX_SIMPLE)\n",
    "cnts = imutils.grab_contours(cnts)\n",
    "cnts = sorted(cnts, key = cv2.contourArea, reverse = True)[:5]\n",
    "# loop over the contours\n",
    "for c in cnts:\n",
    "    peri = cv2.arcLength(c, True)\n",
    "    approx = cv2.approxPolyDP(c, 0.02 * peri, True)\n",
    "    if len(approx) == 4:\n",
    "        screenCnt = approx\n",
    "        break\n",
    "\n",
    "warped = four_point_transform(orig, np.asarray(screenCnt).reshape(4, 2) * ratio)\n",
    " \n",
    "# convert the warped image to grayscale, then threshold it\n",
    "# to give it that 'black and white' paper effect\n",
    "warped = cv2.cvtColor(warped, cv2.COLOR_BGR2GRAY)\n",
    "T = threshold_local(warped, 11, offset = 10, method = \"gaussian\")\n",
    "warped = (warped > T).astype(\"uint8\") * 255\n",
    "resized_image=imutils.resize(warped,height=1000)"
   ]
  },
  {
   "cell_type": "code",
   "execution_count": 56,
   "metadata": {},
   "outputs": [],
   "source": [
    "text_extracted=pytesseract.image_to_string(warped)"
   ]
  },
  {
   "cell_type": "code",
   "execution_count": 57,
   "metadata": {},
   "outputs": [
    {
     "data": {
      "text/plain": [
       "'4.3 ACCESSING AND MANIPULATING PIXELS\\n\\nOn Line 14 we manipulate the top-left pixel in the im-\\nage, which is located at coordinate (0,0) and set it to have\\na value of (0, 0, 255). If we were reading this pixel value\\nin RGB format, we would have a value of 0 for red, 0 for\\ngreen, and 255 for blue, thus making it a pure blue color.\\n\\nHowever, as I mentioned above, we need to take special\\ncare when working with OpenCV. Our pixels are actually\\nstored in BGR format, not RGB format.\\n\\nWe actually read this pixel as 255 for red, 0 for green, and\\n0 for blue, making it a red color, not a blue color.\\n\\nAfter setting the top-left pixel to have a red color on Line\\n14, we then grab the pixel value and print it back to con-\\nsole on Lines 15 and 16, just to demonstrate that we have\\nindeed successfully changed the color of the pixel.\\n\\nAccessing and setting a single pixel value is simple enough,\\nbut what if we wanted to use NumPy’s array slicing capa-\\nbilities to access Jarger rectangular portions of the image?\\nThe code below demonstrates how we can do this:\\n\\nSa\\n\\n \\n \\n\\n|\\n\\n17 corner = image[0:100, 0:100]\\n18 cv2.imshow(\"Corner\", corner)\\n\\n20 image[0:100, 0:400] = (0, 255, 0)\\n22 cv2.imshow(\"Updated”, image)\\n23 cv2.waitKey (0)\\n\\nOn line 17 we grab a 100 x 100 pixel region of the image.\\nIn fact, this is the top-left corner of the image! In order to\\ngrab chunks of an image, NumPy expects we provide four\\n\\n22'"
      ]
     },
     "execution_count": 57,
     "metadata": {},
     "output_type": "execute_result"
    }
   ],
   "source": [
    "text_extracted"
   ]
  },
  {
   "cell_type": "code",
   "execution_count": 53,
   "metadata": {},
   "outputs": [],
   "source": []
  },
  {
   "cell_type": "code",
   "execution_count": 54,
   "metadata": {},
   "outputs": [
    {
     "data": {
      "text/plain": [
       "['(baru dan perpanjangan)\\n\\n  \\n\\nRp 1,000,000 per program studi\\nMasa beriaku keanggotaan selama 1 tahun.\\n\\n1) luran transfor ke 117-000-632-699-1\\n(Bank Mandir KCP Univ Tarumanagara\\nan Widayatmoko)\\n\\n2) Isi Formulir Online yang ada\\ndi web aspikom.org/pendaftaran\\nfpantican lelan torial dengan lobia Gah bersen',\n",
       " 'OH .OK',\n",
       " 'Q INDIRA GANDHI DELHI TECHNICAL UNIVERSITY FOR WOMEN os\\noe KASHMERE GATE, DELHI -110006\\n\\nCERTIFICATE OF PARTICIPATION\\n\\nThis certificate is being awarded to\\n__BHuMIKA DrINmaA\\n\\nfor his/her active participation in\\n\\n—_SUNKYARD _, organised by\\n\\nINNBeVE OCG 17.\\n\\nthe Annual Technical Festival of IGDTUW\\n\\nRishab Kaushal\\n\\n7 oe MI DUAL aye a <n',\n",
       " '4.3 ACCESSING AND MANIPULATING PIXELS\\n\\n‘ On ne 4 we manipulate the top-left pixel in the im-\\nge, which is located at coordinate (0,0) and set it to have\\n\\na value of (0, 0, 255). If we were reading this pixel value\\nin RGB format, we would have a value of 0 for red, 0 for\\ngreen, and 255 for blue, thus making it a pure blue color.\\n\\nHowever, as I mentioned above, we need to take special\\n\\ncare when working with OpenCV. Our pixels are actually\\nstored in BGR format, not RGB format.\\n\\nWe actually read this pixel as 255 for red, 0 for green, and\\n0 for blue, making it a red color, not a blue color.\\n\\nAfter setting the top-left pixel to have a red color on Line\\n14, we then grab the pixel value and print it back to con-\\nsole on Lines 15 and 16, just to demonstrate that we have\\nindeed successfully changed the color of the pixel.\\n\\nAccessing and setting a single pixel value is simple enough,\\nbut what if we wanted to use NumPy’s array slicing capa-\\nbilities to access larger rectangular portions of the image?\\nThe code below demonstrates how we can do this:\\n\\nListing 4-3 Pei acne aos :\\ncorner = image [0:100, 0:100)\\ncv2.imshow(\"Corner\", corner)\\n\\nimage[0:100, 0:100] = (0, 255, 0)\\n\\ncv2.imshow(\"Updat ed”, image)\\ncv2.waitKey (0)\\n\\nOn line 17 we grab a 100 x 100 pixel region Pee —\\nis i * f the image! In order to\\n\\nfact, this is the top left corner 0 ‘\\n\\nfe chunks of an image, NumPy expects we Prov ide four']"
      ]
     },
     "execution_count": 54,
     "metadata": {},
     "output_type": "execute_result"
    }
   ],
   "source": [
    "ls2"
   ]
  },
  {
   "cell_type": "code",
   "execution_count": null,
   "metadata": {},
   "outputs": [],
   "source": []
  },
  {
   "cell_type": "code",
   "execution_count": null,
   "metadata": {},
   "outputs": [],
   "source": []
  },
  {
   "cell_type": "code",
   "execution_count": null,
   "metadata": {},
   "outputs": [],
   "source": []
  },
  {
   "cell_type": "code",
   "execution_count": null,
   "metadata": {},
   "outputs": [],
   "source": []
  },
  {
   "cell_type": "code",
   "execution_count": null,
   "metadata": {},
   "outputs": [],
   "source": []
  },
  {
   "cell_type": "code",
   "execution_count": null,
   "metadata": {},
   "outputs": [],
   "source": []
  },
  {
   "cell_type": "code",
   "execution_count": null,
   "metadata": {},
   "outputs": [],
   "source": []
  },
  {
   "cell_type": "code",
   "execution_count": null,
   "metadata": {},
   "outputs": [],
   "source": []
  },
  {
   "cell_type": "code",
   "execution_count": null,
   "metadata": {},
   "outputs": [],
   "source": []
  },
  {
   "cell_type": "code",
   "execution_count": null,
   "metadata": {},
   "outputs": [],
   "source": []
  },
  {
   "cell_type": "code",
   "execution_count": null,
   "metadata": {},
   "outputs": [],
   "source": []
  },
  {
   "cell_type": "code",
   "execution_count": null,
   "metadata": {},
   "outputs": [],
   "source": []
  }
 ],
 "metadata": {
  "kernelspec": {
   "display_name": "Python 3",
   "language": "python",
   "name": "python3"
  },
  "language_info": {
   "codemirror_mode": {
    "name": "ipython",
    "version": 3
   },
   "file_extension": ".py",
   "mimetype": "text/x-python",
   "name": "python",
   "nbconvert_exporter": "python",
   "pygments_lexer": "ipython3",
   "version": "3.6.5"
  }
 },
 "nbformat": 4,
 "nbformat_minor": 2
}
